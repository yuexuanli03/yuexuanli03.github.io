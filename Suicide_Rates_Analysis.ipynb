{
  "nbformat": 4,
  "nbformat_minor": 0,
  "metadata": {
    "colab": {
      "name": "Suicide Rates Analysis.ipynb",
      "provenance": [],
      "collapsed_sections": [],
      "toc_visible": true
    },
    "kernelspec": {
      "name": "python3",
      "display_name": "Python 3"
    },
    "language_info": {
      "name": "python"
    }
  },
  "cells": [
    {
      "cell_type": "markdown",
      "source": [
        "# Suicide Rates from 1985 to 2016 Analysis"
      ],
      "metadata": {
        "id": "1v7-cZIFMjvO"
      }
    },
    {
      "cell_type": "markdown",
      "source": [
        "#### CMSC320 Final Tutorial\n",
        "#### Author: Yuexuan Li"
      ],
      "metadata": {
        "id": "tGpWsPg4Mmlf"
      }
    },
    {
      "cell_type": "markdown",
      "source": [
        "### 1. Introduction"
      ],
      "metadata": {
        "id": "hcaLRNwNMp7g"
      }
    },
    {
      "cell_type": "markdown",
      "source": [
        "Since every suicide is a tragedy that affects families, communities and entire countries and has long-lasting effects on the people left behind. I am curious about what are the factors that cause someone has the thought such that intentionally causing themselves to die.\n",
        "In this project, I am going to analyze the suicide rates among different cohorts globally. I will visualize and compare the features that relate to the worldwide suicide rate. That is, I am going to explore the relationship between suicide rate with gender, age, and generation. Then I will compare the regressor medols that can help us make a reasonable prediction."
      ],
      "metadata": {
        "id": "MSJbWYRjMtmn"
      }
    },
    {
      "cell_type": "markdown",
      "source": [
        "### 2. Required Library"
      ],
      "metadata": {
        "id": "bblZBAmiMwFo"
      }
    },
    {
      "cell_type": "markdown",
      "source": [
        "- pandas and numpy: used for dataframe manipulation\n",
        "- matplotlib and seaborn: used to make graph that visualize data\n",
        "- sklearn and statsmodels: used in machine learning analysis"
      ],
      "metadata": {
        "id": "sSzHoHx5MyyY"
      }
    },
    {
      "cell_type": "code",
      "execution_count": 79,
      "metadata": {
        "id": "f5ymN6n6wzsz"
      },
      "outputs": [],
      "source": [
        "import numpy as np\n",
        "import pandas as pd\n",
        "import matplotlib.pyplot as plt\n",
        "import seaborn as sns\n",
        "import sklearn\n",
        "from sklearn.linear_model import LinearRegression\n",
        "from sklearn.preprocessing import RobustScaler\n",
        "import statsmodels.formula.api as smf\n",
        "from sklearn.model_selection import train_test_split\n",
        "from sklearn.metrics import r2_score, mean_squared_error\n",
        "from sklearn.ensemble import RandomForestRegressor"
      ]
    },
    {
      "cell_type": "markdown",
      "source": [
        "### 3. Data information"
      ],
      "metadata": {
        "id": "3emj5uVvM6dS"
      }
    },
    {
      "cell_type": "markdown",
      "source": [
        "- this dataset contains 12 features with total of 27820 observations.\n",
        "- dataset is downloaded from Kaggle: https://www.kaggle.com/russellyates88/suicide-rates-overview-1985-to-2016?select=master.csv"
      ],
      "metadata": {
        "id": "hJjhTlwdM7pr"
      }
    },
    {
      "cell_type": "markdown",
      "source": [
        "### 4. Data Preparation"
      ],
      "metadata": {
        "id": "PQeNLuVdM_zX"
      }
    },
    {
      "cell_type": "markdown",
      "source": [
        "First, load the data from the web and download it as a csv file. Then use pandas.read_csv to read the csv file into DataFrame. Since there are 12 variables and not every single of them is useful, I decide to analyze only the most relevant varaiables for this analysis. Here are some samples from the dataset: "
      ],
      "metadata": {
        "id": "8jlmjVTdNBTW"
      }
    },
    {
      "cell_type": "code",
      "source": [
        "df = pd.read_csv(\"/content/master.csv\")\n",
        "# rename some of the columns to make the process easier\n",
        "df.rename(columns={\"suicides/100k pop\": \"suicides_pop\", \"HDI for year\": \"HDI_for_year\", \" gdp_for_year ($) \": \"gdp_for_year\", \"gdp_per_capita ($)\": \"gdp_per_capita\"}, inplace = True)\n",
        "df.head()"
      ],
      "metadata": {
        "colab": {
          "base_uri": "https://localhost:8080/",
          "height": 400
        },
        "id": "BeYqp7Sy1JVR",
        "outputId": "00777008-efee-4194-a146-7c00ee4d9d2d"
      },
      "execution_count": 80,
      "outputs": [
        {
          "output_type": "execute_result",
          "data": {
            "text/html": [
              "<div>\n",
              "<style scoped>\n",
              "    .dataframe tbody tr th:only-of-type {\n",
              "        vertical-align: middle;\n",
              "    }\n",
              "\n",
              "    .dataframe tbody tr th {\n",
              "        vertical-align: top;\n",
              "    }\n",
              "\n",
              "    .dataframe thead th {\n",
              "        text-align: right;\n",
              "    }\n",
              "</style>\n",
              "<table border=\"1\" class=\"dataframe\">\n",
              "  <thead>\n",
              "    <tr style=\"text-align: right;\">\n",
              "      <th></th>\n",
              "      <th>country</th>\n",
              "      <th>year</th>\n",
              "      <th>sex</th>\n",
              "      <th>age</th>\n",
              "      <th>suicides_no</th>\n",
              "      <th>population</th>\n",
              "      <th>suicides_pop</th>\n",
              "      <th>country-year</th>\n",
              "      <th>HDI_for_year</th>\n",
              "      <th>gdp_for_year</th>\n",
              "      <th>gdp_per_capita</th>\n",
              "      <th>generation</th>\n",
              "    </tr>\n",
              "  </thead>\n",
              "  <tbody>\n",
              "    <tr>\n",
              "      <th>0</th>\n",
              "      <td>Albania</td>\n",
              "      <td>1987</td>\n",
              "      <td>male</td>\n",
              "      <td>15-24 years</td>\n",
              "      <td>21</td>\n",
              "      <td>312900</td>\n",
              "      <td>6.71</td>\n",
              "      <td>Albania1987</td>\n",
              "      <td>NaN</td>\n",
              "      <td>2,156,624,900</td>\n",
              "      <td>796</td>\n",
              "      <td>Generation X</td>\n",
              "    </tr>\n",
              "    <tr>\n",
              "      <th>1</th>\n",
              "      <td>Albania</td>\n",
              "      <td>1987</td>\n",
              "      <td>male</td>\n",
              "      <td>35-54 years</td>\n",
              "      <td>16</td>\n",
              "      <td>308000</td>\n",
              "      <td>5.19</td>\n",
              "      <td>Albania1987</td>\n",
              "      <td>NaN</td>\n",
              "      <td>2,156,624,900</td>\n",
              "      <td>796</td>\n",
              "      <td>Silent</td>\n",
              "    </tr>\n",
              "    <tr>\n",
              "      <th>2</th>\n",
              "      <td>Albania</td>\n",
              "      <td>1987</td>\n",
              "      <td>female</td>\n",
              "      <td>15-24 years</td>\n",
              "      <td>14</td>\n",
              "      <td>289700</td>\n",
              "      <td>4.83</td>\n",
              "      <td>Albania1987</td>\n",
              "      <td>NaN</td>\n",
              "      <td>2,156,624,900</td>\n",
              "      <td>796</td>\n",
              "      <td>Generation X</td>\n",
              "    </tr>\n",
              "    <tr>\n",
              "      <th>3</th>\n",
              "      <td>Albania</td>\n",
              "      <td>1987</td>\n",
              "      <td>male</td>\n",
              "      <td>75+ years</td>\n",
              "      <td>1</td>\n",
              "      <td>21800</td>\n",
              "      <td>4.59</td>\n",
              "      <td>Albania1987</td>\n",
              "      <td>NaN</td>\n",
              "      <td>2,156,624,900</td>\n",
              "      <td>796</td>\n",
              "      <td>G.I. Generation</td>\n",
              "    </tr>\n",
              "    <tr>\n",
              "      <th>4</th>\n",
              "      <td>Albania</td>\n",
              "      <td>1987</td>\n",
              "      <td>male</td>\n",
              "      <td>25-34 years</td>\n",
              "      <td>9</td>\n",
              "      <td>274300</td>\n",
              "      <td>3.28</td>\n",
              "      <td>Albania1987</td>\n",
              "      <td>NaN</td>\n",
              "      <td>2,156,624,900</td>\n",
              "      <td>796</td>\n",
              "      <td>Boomers</td>\n",
              "    </tr>\n",
              "  </tbody>\n",
              "</table>\n",
              "</div>"
            ],
            "text/plain": [
              "   country  year     sex  ...   gdp_for_year  gdp_per_capita       generation\n",
              "0  Albania  1987    male  ...  2,156,624,900             796     Generation X\n",
              "1  Albania  1987    male  ...  2,156,624,900             796           Silent\n",
              "2  Albania  1987  female  ...  2,156,624,900             796     Generation X\n",
              "3  Albania  1987    male  ...  2,156,624,900             796  G.I. Generation\n",
              "4  Albania  1987    male  ...  2,156,624,900             796          Boomers\n",
              "\n",
              "[5 rows x 12 columns]"
            ]
          },
          "metadata": {},
          "execution_count": 80
        }
      ]
    },
    {
      "cell_type": "markdown",
      "source": [
        "From the dataframe, you may notice that HDI_for_year column has more than 70% missing values and this feature will not be used in analysis process, so let's just drop it;\n",
        "Also, country-year column contains repeated information, drop that either. Here's what the sample data should look like after manipulation:"
      ],
      "metadata": {
        "id": "d_9Zc1YTNGQF"
      }
    },
    {
      "cell_type": "code",
      "source": [
        "df = df.drop(['country-year'], axis=1)\n",
        "df = df.drop(['HDI_for_year'], axis=1)\n",
        "df.head()"
      ],
      "metadata": {
        "colab": {
          "base_uri": "https://localhost:8080/",
          "height": 206
        },
        "id": "Ga_6iNxr9-f3",
        "outputId": "c58c61db-c17a-4191-a19f-ef2da7d6215d"
      },
      "execution_count": 81,
      "outputs": [
        {
          "output_type": "execute_result",
          "data": {
            "text/html": [
              "<div>\n",
              "<style scoped>\n",
              "    .dataframe tbody tr th:only-of-type {\n",
              "        vertical-align: middle;\n",
              "    }\n",
              "\n",
              "    .dataframe tbody tr th {\n",
              "        vertical-align: top;\n",
              "    }\n",
              "\n",
              "    .dataframe thead th {\n",
              "        text-align: right;\n",
              "    }\n",
              "</style>\n",
              "<table border=\"1\" class=\"dataframe\">\n",
              "  <thead>\n",
              "    <tr style=\"text-align: right;\">\n",
              "      <th></th>\n",
              "      <th>country</th>\n",
              "      <th>year</th>\n",
              "      <th>sex</th>\n",
              "      <th>age</th>\n",
              "      <th>suicides_no</th>\n",
              "      <th>population</th>\n",
              "      <th>suicides_pop</th>\n",
              "      <th>gdp_for_year</th>\n",
              "      <th>gdp_per_capita</th>\n",
              "      <th>generation</th>\n",
              "    </tr>\n",
              "  </thead>\n",
              "  <tbody>\n",
              "    <tr>\n",
              "      <th>0</th>\n",
              "      <td>Albania</td>\n",
              "      <td>1987</td>\n",
              "      <td>male</td>\n",
              "      <td>15-24 years</td>\n",
              "      <td>21</td>\n",
              "      <td>312900</td>\n",
              "      <td>6.71</td>\n",
              "      <td>2,156,624,900</td>\n",
              "      <td>796</td>\n",
              "      <td>Generation X</td>\n",
              "    </tr>\n",
              "    <tr>\n",
              "      <th>1</th>\n",
              "      <td>Albania</td>\n",
              "      <td>1987</td>\n",
              "      <td>male</td>\n",
              "      <td>35-54 years</td>\n",
              "      <td>16</td>\n",
              "      <td>308000</td>\n",
              "      <td>5.19</td>\n",
              "      <td>2,156,624,900</td>\n",
              "      <td>796</td>\n",
              "      <td>Silent</td>\n",
              "    </tr>\n",
              "    <tr>\n",
              "      <th>2</th>\n",
              "      <td>Albania</td>\n",
              "      <td>1987</td>\n",
              "      <td>female</td>\n",
              "      <td>15-24 years</td>\n",
              "      <td>14</td>\n",
              "      <td>289700</td>\n",
              "      <td>4.83</td>\n",
              "      <td>2,156,624,900</td>\n",
              "      <td>796</td>\n",
              "      <td>Generation X</td>\n",
              "    </tr>\n",
              "    <tr>\n",
              "      <th>3</th>\n",
              "      <td>Albania</td>\n",
              "      <td>1987</td>\n",
              "      <td>male</td>\n",
              "      <td>75+ years</td>\n",
              "      <td>1</td>\n",
              "      <td>21800</td>\n",
              "      <td>4.59</td>\n",
              "      <td>2,156,624,900</td>\n",
              "      <td>796</td>\n",
              "      <td>G.I. Generation</td>\n",
              "    </tr>\n",
              "    <tr>\n",
              "      <th>4</th>\n",
              "      <td>Albania</td>\n",
              "      <td>1987</td>\n",
              "      <td>male</td>\n",
              "      <td>25-34 years</td>\n",
              "      <td>9</td>\n",
              "      <td>274300</td>\n",
              "      <td>3.28</td>\n",
              "      <td>2,156,624,900</td>\n",
              "      <td>796</td>\n",
              "      <td>Boomers</td>\n",
              "    </tr>\n",
              "  </tbody>\n",
              "</table>\n",
              "</div>"
            ],
            "text/plain": [
              "   country  year     sex  ...   gdp_for_year  gdp_per_capita       generation\n",
              "0  Albania  1987    male  ...  2,156,624,900             796     Generation X\n",
              "1  Albania  1987    male  ...  2,156,624,900             796           Silent\n",
              "2  Albania  1987  female  ...  2,156,624,900             796     Generation X\n",
              "3  Albania  1987    male  ...  2,156,624,900             796  G.I. Generation\n",
              "4  Albania  1987    male  ...  2,156,624,900             796          Boomers\n",
              "\n",
              "[5 rows x 10 columns]"
            ]
          },
          "metadata": {},
          "execution_count": 81
        }
      ]
    },
    {
      "cell_type": "markdown",
      "source": [
        "### 5. Exploratory Data Analysis"
      ],
      "metadata": {
        "id": "_NPBrO2vNPv6"
      }
    },
    {
      "cell_type": "markdown",
      "source": [
        "In order for a better anlysis process, I am going to reformat the age 'x-xx years' to 'xx-xx years'."
      ],
      "metadata": {
        "id": "hpGpaMa3NRtv"
      }
    },
    {
      "cell_type": "code",
      "source": [
        "df[\"gdp_for_year\"] = df[\"gdp_for_year\"].str.replace(\",\",\"\").astype(np.int64)\n",
        "df[\"age\"] = df[\"age\"].str.replace(\"5-14 years\",\"05-14 years\")"
      ],
      "metadata": {
        "id": "Y5fNvaWX1kJT"
      },
      "execution_count": 82,
      "outputs": []
    },
    {
      "cell_type": "markdown",
      "source": [
        "##### Suicide Number vs. Gender"
      ],
      "metadata": {
        "id": "YFqldLDANV1F"
      }
    },
    {
      "cell_type": "markdown",
      "source": [
        "Now, I want to know how does gender tell us about the suicide rate. Therefore, I am going to use lineplot and bar chart tools to show the trend and distribution. First I want to see how does the number of suicides distributed among gender, so I plan to use plt to show the bar graph."
      ],
      "metadata": {
        "id": "4s6HWZimNW_0"
      }
    },
    {
      "cell_type": "code",
      "source": [
        "plt.figure(figsize=(9,5))\n",
        "sns.barplot(x = df['sex'], y = df['suicides_no'])\n",
        "plt.xlabel('gender group')\n",
        "plt.ylabel('number of suicides')\n",
        "plt.title('Number of Suicides for Each Gender')\n",
        "plt.show()"
      ],
      "metadata": {
        "colab": {
          "base_uri": "https://localhost:8080/",
          "height": 350
        },
        "id": "iB9Hq2dk1mUI",
        "outputId": "3830ed45-4dd3-46ac-c771-dd8a3dff28bb"
      },
      "execution_count": 83,
      "outputs": [
        {
          "output_type": "display_data",
          "data": {
            "image/png": "[encoded data removed]",
            "text/plain": [
              "<Figure size 648x360 with 1 Axes>"
            ]
          },
          "metadata": {
            "needs_background": "light"
          }
        }
      ]
    },
    {
      "cell_type": "markdown",
      "source": [
        "From the bar graph shown above, it's clearly to see that male tends to have higher number of suicide."
      ],
      "metadata": {
        "id": "Nd6nG5GaNeGf"
      }
    },
    {
      "cell_type": "markdown",
      "source": [
        "Then I want to see how does the number of suicides by gender changed over year, so I plan to use sns to show the lineplot."
      ],
      "metadata": {
        "id": "p3JPpUsTNgPg"
      }
    },
    {
      "cell_type": "code",
      "source": [
        "m = df[df.sex == 'male']\n",
        "f = df[df.sex == 'female']\n",
        "plt.figure(figsize=(9,6))\n",
        "plt.title('Number of Suicides by Gender between 1985 to 2016')\n",
        "sns.lineplot(m.year, df.suicides_no, ci=None)\n",
        "sns.lineplot(f.year, df.suicides_no, ci=None)\n",
        "plt.legend([\"male\", 'female'])\n",
        "plt.show()"
      ],
      "metadata": {
        "colab": {
          "base_uri": "https://localhost:8080/",
          "height": 493
        },
        "id": "HfPu0nxT1olA",
        "outputId": "c9a8f45d-14d6-4b6c-a6ce-edb23c8f1b26"
      },
      "execution_count": 84,
      "outputs": [
        {
          "output_type": "stream",
          "name": "stderr",
          "text": [
            "/usr/local/lib/python3.7/dist-packages/seaborn/_decorators.py:43: FutureWarning: Pass the following variables as keyword args: x, y. From version 0.12, the only valid positional argument will be `data`, and passing other arguments without an explicit keyword will result in an error or misinterpretation.\n",
            "  FutureWarning\n",
            "/usr/local/lib/python3.7/dist-packages/seaborn/_decorators.py:43: FutureWarning: Pass the following variables as keyword args: x, y. From version 0.12, the only valid positional argument will be `data`, and passing other arguments without an explicit keyword will result in an error or misinterpretation.\n",
            "  FutureWarning\n"
          ]
        },
        {
          "output_type": "display_data",
          "data": {
            "image/png": "[encoded data removed]",
            "text/plain": [
              "<Figure size 648x432 with 1 Axes>"
            ]
          },
          "metadata": {
            "needs_background": "light"
          }
        }
      ]
    },
    {
      "cell_type": "markdown",
      "source": [
        "From the lineplot shown above, we can realize that male always has higher suicuide rate than female between 1985 to 2016. For male, the suicide peak occurs between 1990 to 1995; for female, the suicide rate has not fluctuated significantly between 1985 to 2016. However, the suicide rate for both male female has dropped significantly after 2015."
      ],
      "metadata": {
        "id": "8pm6iq6ENj6G"
      }
    },
    {
      "cell_type": "markdown",
      "source": [
        "##### Suicide Rate vs. Age"
      ],
      "metadata": {
        "id": "LZCxVt7nNoMG"
      }
    },
    {
      "cell_type": "markdown",
      "source": [
        "Second, I want to know how does age tell us about the suicide rate which means I want to see how does the number of suicides distributed among age group, so just repeat some of the steps I did above."
      ],
      "metadata": {
        "id": "mb62-GkvNpTo"
      }
    },
    {
      "cell_type": "code",
      "source": [
        "plt.figure(figsize=(9,5))\n",
        "sns.barplot(x=df['age'], y=df['suicides_no'])\n",
        "plt.xlabel('Age Group')\n",
        "plt.ylabel('Number of Suicides')\n",
        "plt.title('Number of Suicides for Each Age Group')\n",
        "plt.show()"
      ],
      "metadata": {
        "colab": {
          "base_uri": "https://localhost:8080/",
          "height": 350
        },
        "id": "kMHAY_BZ1qnw",
        "outputId": "f1db2681-ea09-43c0-c4d3-6b19e82bfacc"
      },
      "execution_count": 85,
      "outputs": [
        {
          "output_type": "display_data",
          "data": {
            "image/png": "[encoded data removed]",
            "text/plain": [
              "<Figure size 648x360 with 1 Axes>"
            ]
          },
          "metadata": {
            "needs_background": "light"
          }
        }
      ]
    },
    {
      "cell_type": "markdown",
      "source": [
        "From the bar garph shown above, we can find that age group 35-54 years tends to have higher number of suicide."
      ],
      "metadata": {
        "id": "23v5wbKONteM"
      }
    },
    {
      "cell_type": "markdown",
      "source": [
        "Then I want to see the details about how does the suicide rate by age changed over year, again use sns to show the lineplot."
      ],
      "metadata": {
        "id": "2vFzpLiXNuq4"
      }
    },
    {
      "cell_type": "code",
      "source": [
        "df_age = df.groupby([\"year\",\"age\"])[\"suicides_no\", \"population\"].sum()\n",
        "df_reset = df_age.copy().reset_index()\n",
        "plt.figure(figsize=(9,6))\n",
        "sns.lineplot(\"year\", df_reset.suicides_no*100/df_reset.population, hue = \"age\",\n",
        "             data = df_reset, linewidth = 2.5, style = \"age\", markers=True\n",
        "            , dashes=False)\n",
        "plt.xticks(rotation = 90)\n",
        "plt.show()"
      ],
      "metadata": {
        "colab": {
          "base_uri": "https://localhost:8080/",
          "height": 493
        },
        "id": "rr2KvUz71sS9",
        "outputId": "50068fc8-0058-467b-ab9d-7a7a71f3933e"
      },
      "execution_count": 86,
      "outputs": [
        {
          "output_type": "stream",
          "name": "stderr",
          "text": [
            "/usr/local/lib/python3.7/dist-packages/ipykernel_launcher.py:1: FutureWarning: Indexing with multiple keys (implicitly converted to a tuple of keys) will be deprecated, use a list instead.\n",
            "  \"\"\"Entry point for launching an IPython kernel.\n",
            "/usr/local/lib/python3.7/dist-packages/seaborn/_decorators.py:43: FutureWarning: Pass the following variables as keyword args: x, y. From version 0.12, the only valid positional argument will be `data`, and passing other arguments without an explicit keyword will result in an error or misinterpretation.\n",
            "  FutureWarning\n"
          ]
        },
        {
          "output_type": "display_data",
          "data": {
            "image/png": "[encoded data removed]",
            "text/plain": [
              "<Figure size 648x432 with 1 Axes>"
            ]
          },
          "metadata": {
            "needs_background": "light"
          }
        }
      ]
    },
    {
      "cell_type": "markdown",
      "source": [
        "From the line plot shown above, we can see that 75+ years has the highest suicide rate even though we found that age group 35-54 years has the highest number of suicide from the bar graph. Based on the line plot, we can see that as age is getting higher the suicide rate is also getting higher. Elders are sent to old-age homes which many consider being a prison for them. A lot of old people face financial issues at this age. All these factors together increase the chances of committing suicide."
      ],
      "metadata": {
        "id": "Dbb9lMGANyOC"
      }
    },
    {
      "cell_type": "markdown",
      "source": [
        "##### Suicide Rate vs. Generation"
      ],
      "metadata": {
        "id": "er_QQdk8N2-2"
      }
    },
    {
      "cell_type": "markdown",
      "source": [
        "Now I want to show how does the suicide rate changed over year for each generation. "
      ],
      "metadata": {
        "id": "wCDJQ1BZN5Ey"
      }
    },
    {
      "cell_type": "code",
      "source": [
        "df_generation = df.groupby([\"year\", \"generation\"])[\"suicides_no\", \"population\"].sum()\n",
        "df_generation_reset = df_generation.copy().reset_index()\n",
        "plt.figure(figsize=(9,6))\n",
        "sns.lineplot(\"year\", df_generation_reset.suicides_no*100/df_generation_reset.population, hue = \"generation\", \n",
        "            data = df_generation_reset, linewidth = 2.5, style = \"generation\", markers=True\n",
        "            , dashes=False)\n",
        "plt.xticks(rotation = 90)\n",
        "plt.show()"
      ],
      "metadata": {
        "colab": {
          "base_uri": "https://localhost:8080/",
          "height": 493
        },
        "id": "dqcWrgg0-70U",
        "outputId": "68b4d3ef-2fa6-443b-c384-c7caf6d576a6"
      },
      "execution_count": 87,
      "outputs": [
        {
          "output_type": "stream",
          "name": "stderr",
          "text": [
            "/usr/local/lib/python3.7/dist-packages/ipykernel_launcher.py:1: FutureWarning: Indexing with multiple keys (implicitly converted to a tuple of keys) will be deprecated, use a list instead.\n",
            "  \"\"\"Entry point for launching an IPython kernel.\n",
            "/usr/local/lib/python3.7/dist-packages/seaborn/_decorators.py:43: FutureWarning: Pass the following variables as keyword args: x, y. From version 0.12, the only valid positional argument will be `data`, and passing other arguments without an explicit keyword will result in an error or misinterpretation.\n",
            "  FutureWarning\n"
          ]
        },
        {
          "output_type": "display_data",
          "data": {
            "image/png": "[encoded data removed]",
            "text/plain": [
              "<Figure size 648x432 with 1 Axes>"
            ]
          },
          "metadata": {
            "needs_background": "light"
          }
        }
      ]
    },
    {
      "cell_type": "markdown",
      "source": [
        "So from the line plot shown above, we can see that G.I. Generation has higher suicide rate than other generations before 2000. This result is not surprised because G.I. Generation also known as the World War II Generation. People sufferred a lot during that gloomy period. They experienced so many unimaginable and inhumane things. Trauma after war caused such this high suicide rate during that period;\n",
        "Followed by that, the suicide rate for Silent and Boomers generations are also relatively high;\n",
        "Surprisely, Generation Z has the lowest suicide rate amongst all generations. It's been commonly perceived that suicidal behaviors are most common in people of current generations which is the Generation Z since they get more pressure from society. And these people are more likely to get mental health issues. However, with the progress of society and the improvement of social services, the people in current generation are more likely to receive mental health treatment compared to other generations. That's probably the reason why Generation Z doesn't have that high suicide rate."
      ],
      "metadata": {
        "id": "zGmgWDUpOCOJ"
      }
    },
    {
      "cell_type": "markdown",
      "source": [
        "##### 6. Hypothesis Testing and Machine Learning"
      ],
      "metadata": {
        "id": "HAKW0UJsOHJj"
      }
    },
    {
      "cell_type": "markdown",
      "source": [
        "Now I am going to analyze the relationship between suicide population and other variables using linear regression. First I will scale these numerical data with outliers using robustScaler method. Since not all variables are numerical, I will use LabelEncoder method to label these categorical variable using numerical values."
      ],
      "metadata": {
        "id": "NayqpJGhOJax"
      }
    },
    {
      "cell_type": "code",
      "source": [
        "numerical = ['suicides_no', 'population', 'suicides_pop', \n",
        "              'gdp_for_year','gdp_per_capita']\n",
        "categorical = ['country', 'year','age', 'sex', 'generation']\n",
        "rc = RobustScaler()\n",
        "df[numerical] = rc.fit_transform(df[numerical])\n",
        "le = sklearn.preprocessing.LabelEncoder()\n",
        "for c in categorical:\n",
        "    df[c] = le.fit_transform(df[c])\n",
        "df.head()"
      ],
      "metadata": {
        "colab": {
          "base_uri": "https://localhost:8080/",
          "height": 206
        },
        "id": "8OfoxVN8T3to",
        "outputId": "9b42e286-4e43-4404-8bc8-511354d84b30"
      },
      "execution_count": 88,
      "outputs": [
        {
          "output_type": "execute_result",
          "data": {
            "text/html": [
              "<div>\n",
              "<style scoped>\n",
              "    .dataframe tbody tr th:only-of-type {\n",
              "        vertical-align: middle;\n",
              "    }\n",
              "\n",
              "    .dataframe tbody tr th {\n",
              "        vertical-align: top;\n",
              "    }\n",
              "\n",
              "    .dataframe thead th {\n",
              "        text-align: right;\n",
              "    }\n",
              "</style>\n",
              "<table border=\"1\" class=\"dataframe\">\n",
              "  <thead>\n",
              "    <tr style=\"text-align: right;\">\n",
              "      <th></th>\n",
              "      <th>country</th>\n",
              "      <th>year</th>\n",
              "      <th>sex</th>\n",
              "      <th>age</th>\n",
              "      <th>suicides_no</th>\n",
              "      <th>population</th>\n",
              "      <th>suicides_pop</th>\n",
              "      <th>gdp_for_year</th>\n",
              "      <th>gdp_per_capita</th>\n",
              "      <th>generation</th>\n",
              "    </tr>\n",
              "  </thead>\n",
              "  <tbody>\n",
              "    <tr>\n",
              "      <th>0</th>\n",
              "      <td>0</td>\n",
              "      <td>2</td>\n",
              "      <td>1</td>\n",
              "      <td>1</td>\n",
              "      <td>-0.031250</td>\n",
              "      <td>-0.084435</td>\n",
              "      <td>0.045860</td>\n",
              "      <td>-0.182942</td>\n",
              "      <td>-0.400243</td>\n",
              "      <td>2</td>\n",
              "    </tr>\n",
              "    <tr>\n",
              "      <th>1</th>\n",
              "      <td>0</td>\n",
              "      <td>2</td>\n",
              "      <td>1</td>\n",
              "      <td>3</td>\n",
              "      <td>-0.070312</td>\n",
              "      <td>-0.087963</td>\n",
              "      <td>-0.050955</td>\n",
              "      <td>-0.182942</td>\n",
              "      <td>-0.400243</td>\n",
              "      <td>5</td>\n",
              "    </tr>\n",
              "    <tr>\n",
              "      <th>2</th>\n",
              "      <td>0</td>\n",
              "      <td>2</td>\n",
              "      <td>0</td>\n",
              "      <td>1</td>\n",
              "      <td>-0.085938</td>\n",
              "      <td>-0.101142</td>\n",
              "      <td>-0.073885</td>\n",
              "      <td>-0.182942</td>\n",
              "      <td>-0.400243</td>\n",
              "      <td>2</td>\n",
              "    </tr>\n",
              "    <tr>\n",
              "      <th>3</th>\n",
              "      <td>0</td>\n",
              "      <td>2</td>\n",
              "      <td>1</td>\n",
              "      <td>5</td>\n",
              "      <td>-0.187500</td>\n",
              "      <td>-0.294064</td>\n",
              "      <td>-0.089172</td>\n",
              "      <td>-0.182942</td>\n",
              "      <td>-0.400243</td>\n",
              "      <td>1</td>\n",
              "    </tr>\n",
              "    <tr>\n",
              "      <th>4</th>\n",
              "      <td>0</td>\n",
              "      <td>2</td>\n",
              "      <td>1</td>\n",
              "      <td>2</td>\n",
              "      <td>-0.125000</td>\n",
              "      <td>-0.112232</td>\n",
              "      <td>-0.172611</td>\n",
              "      <td>-0.182942</td>\n",
              "      <td>-0.400243</td>\n",
              "      <td>0</td>\n",
              "    </tr>\n",
              "  </tbody>\n",
              "</table>\n",
              "</div>"
            ],
            "text/plain": [
              "   country  year  sex  ...  gdp_for_year  gdp_per_capita  generation\n",
              "0        0     2    1  ...     -0.182942       -0.400243           2\n",
              "1        0     2    1  ...     -0.182942       -0.400243           5\n",
              "2        0     2    0  ...     -0.182942       -0.400243           2\n",
              "3        0     2    1  ...     -0.182942       -0.400243           1\n",
              "4        0     2    1  ...     -0.182942       -0.400243           0\n",
              "\n",
              "[5 rows x 10 columns]"
            ]
          },
          "metadata": {},
          "execution_count": 88
        }
      ]
    },
    {
      "cell_type": "markdown",
      "source": [
        "Now splitting the data"
      ],
      "metadata": {
        "id": "ZU6tUTcAONPj"
      }
    },
    {
      "cell_type": "code",
      "source": [
        "X_data = df\n",
        "y_data = df['suicides_pop']\n",
        "lm = LinearRegression()\n",
        "lm.fit(X_data, y_data)\n",
        "\n",
        "model = sm.OLS(y_data, X_data).fit()\n",
        "pred = model.predict(X_data)\n",
        "\n",
        "model.summary()"
      ],
      "metadata": {
        "colab": {
          "base_uri": "https://localhost:8080/",
          "height": 622
        },
        "id": "I3YtDis-c8BA",
        "outputId": "a5ac349b-831e-412a-d363-2accf78a6195"
      },
      "execution_count": 89,
      "outputs": [
        {
          "output_type": "execute_result",
          "data": {
            "text/html": [
              "<table class=\"simpletable\">\n",
              "<caption>OLS Regression Results</caption>\n",
              "<tr>\n",
              "  <th>Dep. Variable:</th>      <td>suicides_pop</td>   <th>  R-squared (uncentered):</th>       <td>   1.000</td> \n",
              "</tr>\n",
              "<tr>\n",
              "  <th>Model:</th>                   <td>OLS</td>       <th>  Adj. R-squared (uncentered):</th>  <td>   1.000</td> \n",
              "</tr>\n",
              "<tr>\n",
              "  <th>Method:</th>             <td>Least Squares</td>  <th>  F-statistic:       </th>           <td>3.528e+33</td>\n",
              "</tr>\n",
              "<tr>\n",
              "  <th>Date:</th>             <td>Mon, 20 Dec 2021</td> <th>  Prob (F-statistic):</th>            <td>  0.00</td>  \n",
              "</tr>\n",
              "<tr>\n",
              "  <th>Time:</th>                 <td>06:37:35</td>     <th>  Log-Likelihood:    </th>          <td>9.1776e+05</td>\n",
              "</tr>\n",
              "<tr>\n",
              "  <th>No. Observations:</th>      <td> 27820</td>      <th>  AIC:               </th>          <td>-1.835e+06</td>\n",
              "</tr>\n",
              "<tr>\n",
              "  <th>Df Residuals:</th>          <td> 27810</td>      <th>  BIC:               </th>          <td>-1.835e+06</td>\n",
              "</tr>\n",
              "<tr>\n",
              "  <th>Df Model:</th>              <td>    10</td>      <th>                     </th>               <td> </td>    \n",
              "</tr>\n",
              "<tr>\n",
              "  <th>Covariance Type:</th>      <td>nonrobust</td>    <th>                     </th>               <td> </td>    \n",
              "</tr>\n",
              "</table>\n",
              "<table class=\"simpletable\">\n",
              "<tr>\n",
              "         <td></td>           <th>coef</th>     <th>std err</th>      <th>t</th>      <th>P>|t|</th>  <th>[0.025</th>    <th>0.975]</th>  \n",
              "</tr>\n",
              "<tr>\n",
              "  <th>country</th>        <td>-1.735e-18</td> <td> 2.09e-19</td> <td>   -8.285</td> <td> 0.000</td> <td>-2.15e-18</td> <td>-1.32e-18</td>\n",
              "</tr>\n",
              "<tr>\n",
              "  <th>year</th>           <td> 3.936e-17</td> <td>    8e-19</td> <td>   49.191</td> <td> 0.000</td> <td> 3.78e-17</td> <td> 4.09e-17</td>\n",
              "</tr>\n",
              "<tr>\n",
              "  <th>sex</th>            <td>-1.221e-15</td> <td> 1.42e-17</td> <td>  -85.988</td> <td> 0.000</td> <td>-1.25e-15</td> <td>-1.19e-15</td>\n",
              "</tr>\n",
              "<tr>\n",
              "  <th>age</th>            <td> 1.725e-16</td> <td> 3.87e-18</td> <td>   44.583</td> <td> 0.000</td> <td> 1.65e-16</td> <td>  1.8e-16</td>\n",
              "</tr>\n",
              "<tr>\n",
              "  <th>suicides_no</th>    <td>-1.691e-17</td> <td> 1.33e-18</td> <td>  -12.681</td> <td> 0.000</td> <td>-1.95e-17</td> <td>-1.43e-17</td>\n",
              "</tr>\n",
              "<tr>\n",
              "  <th>population</th>     <td> 3.643e-16</td> <td>  4.1e-18</td> <td>   88.789</td> <td> 0.000</td> <td> 3.56e-16</td> <td> 3.72e-16</td>\n",
              "</tr>\n",
              "<tr>\n",
              "  <th>suicides_pop</th>   <td>    1.0000</td> <td> 6.98e-18</td> <td> 1.43e+17</td> <td> 0.000</td> <td>    1.000</td> <td>    1.000</td>\n",
              "</tr>\n",
              "<tr>\n",
              "  <th>gdp_for_year</th>   <td> -1.18e-16</td> <td> 1.79e-18</td> <td>  -65.795</td> <td> 0.000</td> <td>-1.21e-16</td> <td>-1.14e-16</td>\n",
              "</tr>\n",
              "<tr>\n",
              "  <th>gdp_per_capita</th> <td>-7.286e-17</td> <td> 8.76e-18</td> <td>   -8.322</td> <td> 0.000</td> <td>   -9e-17</td> <td>-5.57e-17</td>\n",
              "</tr>\n",
              "<tr>\n",
              "  <th>generation</th>     <td>-2.233e-16</td> <td> 3.77e-18</td> <td>  -59.264</td> <td> 0.000</td> <td>-2.31e-16</td> <td>-2.16e-16</td>\n",
              "</tr>\n",
              "</table>\n",
              "<table class=\"simpletable\">\n",
              "<tr>\n",
              "  <th>Omnibus:</th>       <td>4325.552</td> <th>  Durbin-Watson:     </th> <td>   1.355</td> \n",
              "</tr>\n",
              "<tr>\n",
              "  <th>Prob(Omnibus):</th>  <td> 0.000</td>  <th>  Jarque-Bera (JB):  </th> <td>13795.815</td>\n",
              "</tr>\n",
              "<tr>\n",
              "  <th>Skew:</th>           <td>-0.801</td>  <th>  Prob(JB):          </th> <td>    0.00</td> \n",
              "</tr>\n",
              "<tr>\n",
              "  <th>Kurtosis:</th>       <td> 6.056</td>  <th>  Cond. No.          </th> <td>    126.</td> \n",
              "</tr>\n",
              "</table><br/><br/>Warnings:<br/>[1] Standard Errors assume that the covariance matrix of the errors is correctly specified."
            ],
            "text/plain": [
              "<class 'statsmodels.iolib.summary.Summary'>\n",
              "\"\"\"\n",
              "                                 OLS Regression Results                                \n",
              "=======================================================================================\n",
              "Dep. Variable:           suicides_pop   R-squared (uncentered):                   1.000\n",
              "Model:                            OLS   Adj. R-squared (uncentered):              1.000\n",
              "Method:                 Least Squares   F-statistic:                          3.528e+33\n",
              "Date:                Mon, 20 Dec 2021   Prob (F-statistic):                        0.00\n",
              "Time:                        06:37:35   Log-Likelihood:                      9.1776e+05\n",
              "No. Observations:               27820   AIC:                                 -1.835e+06\n",
              "Df Residuals:                   27810   BIC:                                 -1.835e+06\n",
              "Df Model:                          10                                                  \n",
              "Covariance Type:            nonrobust                                                  \n",
              "==================================================================================\n",
              "                     coef    std err          t      P>|t|      [0.025      0.975]\n",
              "----------------------------------------------------------------------------------\n",
              "country        -1.735e-18   2.09e-19     -8.285      0.000   -2.15e-18   -1.32e-18\n",
              "year            3.936e-17      8e-19     49.191      0.000    3.78e-17    4.09e-17\n",
              "sex            -1.221e-15   1.42e-17    -85.988      0.000   -1.25e-15   -1.19e-15\n",
              "age             1.725e-16   3.87e-18     44.583      0.000    1.65e-16     1.8e-16\n",
              "suicides_no    -1.691e-17   1.33e-18    -12.681      0.000   -1.95e-17   -1.43e-17\n",
              "population      3.643e-16    4.1e-18     88.789      0.000    3.56e-16    3.72e-16\n",
              "suicides_pop       1.0000   6.98e-18   1.43e+17      0.000       1.000       1.000\n",
              "gdp_for_year    -1.18e-16   1.79e-18    -65.795      0.000   -1.21e-16   -1.14e-16\n",
              "gdp_per_capita -7.286e-17   8.76e-18     -8.322      0.000      -9e-17   -5.57e-17\n",
              "generation     -2.233e-16   3.77e-18    -59.264      0.000   -2.31e-16   -2.16e-16\n",
              "==============================================================================\n",
              "Omnibus:                     4325.552   Durbin-Watson:                   1.355\n",
              "Prob(Omnibus):                  0.000   Jarque-Bera (JB):            13795.815\n",
              "Skew:                          -0.801   Prob(JB):                         0.00\n",
              "Kurtosis:                       6.056   Cond. No.                         126.\n",
              "==============================================================================\n",
              "\n",
              "Warnings:\n",
              "[1] Standard Errors assume that the covariance matrix of the errors is correctly specified.\n",
              "\"\"\""
            ]
          },
          "metadata": {},
          "execution_count": 89
        }
      ]
    },
    {
      "cell_type": "markdown",
      "source": [
        "From the regression results, since the p-value for each indepedent variable is so small, we can say that all variables in X_data are some how impact the dependent variable suicides_pop."
      ],
      "metadata": {
        "id": "MDcNXiz_OVvI"
      }
    },
    {
      "cell_type": "markdown",
      "source": [
        "##### Random Forest Regressor"
      ],
      "metadata": {
        "id": "S1BdbxdEg7q1"
      }
    },
    {
      "cell_type": "markdown",
      "source": [
        "Here, I will use two different models to make prediction on the dataset and compare the results, then find the best fit one at the end. I am going to use the X_data and y_data I defined from the last section as X and y where X contains the predictors and y contains the value(suicides_pop) that we want to predict. Random Forest is a supervised learning algorithm that is based on the ensemble learning method and many Decision Trees. So let's look at the random forest regressor first."
      ],
      "metadata": {
        "id": "dZgMvyzYhaTE"
      }
    },
    {
      "cell_type": "code",
      "source": [
        "X, y = X_data, y_data\n",
        "\n",
        "# split the data into validation train and validation test\n",
        "X1, X2, y1, y2 = train_test_split(X, y, train_size = 0.2)\n",
        "rf = RandomForestRegressor(random_state = 1)\n",
        "\n",
        "# fit the model on one set of data\n",
        "rf.fit(X1,y1)\n",
        "\n",
        "# evaluate the model on the second set of data\n",
        "pred_train = rf.predict(X1)\n",
        "pred_test = rf.predict(X2)\n",
        "\n",
        "rmse_train = np.sqrt(mean_squared_error(y1,pred_train))\n",
        "rmse_test = np.sqrt(mean_squared_error(y2, pred_test))\n",
        "\n",
        "train = r2_score(y1, pred_train)\n",
        "test = r2_score(y2, pred_test)\n",
        "\n",
        "print('Random Forest Regression: The RMSE of the training set is:', rmse_train)\n",
        "print('Random Forest Regression: The RMSE of the testing set is:', rmse_test)\n",
        "print(\"Random Forest Regression: R^2 on training Data:\", train)\n",
        "print(\"Random Forest Regression: R^2 on testing Data:\", test)"
      ],
      "metadata": {
        "colab": {
          "base_uri": "https://localhost:8080/"
        },
        "id": "4fiZ8udHhAKj",
        "outputId": "266f8039-ea1e-42dc-8d7a-e9b95d8319be"
      },
      "execution_count": 90,
      "outputs": [
        {
          "output_type": "stream",
          "name": "stdout",
          "text": [
            "Random Forest Regression: The RMSE of the training set is: 0.009086367516275293\n",
            "Random Forest Regression: The RMSE of the testing set is: 0.050898241220869014\n",
            "Random Forest Regression: R^2 on training Data: 0.9999454882583175\n",
            "Random Forest Regression: R^2 on testing Data: 0.9982065567205983\n"
          ]
        }
      ]
    },
    {
      "cell_type": "markdown",
      "source": [
        "From the results shown above, the random forest regressor gives us the R^2 for testing data is around 0.98 and the RMSE of the testing set is about 0.15. Since we got a high R^2 value and low enough RMSE value, it's happy to say that this is a good model to make prediciton. "
      ],
      "metadata": {
        "id": "J0FGizX-hHqX"
      }
    },
    {
      "cell_type": "markdown",
      "source": [
        "##### Linear Regressor"
      ],
      "metadata": {
        "id": "wArMr1e-OYsK"
      }
    },
    {
      "cell_type": "markdown",
      "source": [
        "Linear regression is perhaps one of the most well known and well understood algorithms in statistics and machine learning. So I will continue what I did and move on to linear regressor to solve regression tasks."
      ],
      "metadata": {
        "id": "xRNAV0PAOa-v"
      }
    },
    {
      "cell_type": "code",
      "source": [
        "X, y = X_data, y_data\n",
        "\n",
        "# split the data into validation train and validation test\n",
        "X1, X2, y1, y2 = train_test_split(X, y, train_size = 0.2)\n",
        "lr = LinearRegression()\n",
        "\n",
        "# fit the model on one set of data\n",
        "lr.fit(X1,y1)\n",
        "\n",
        "# evaluate the model on the second set of data\n",
        "pred_train = lr.predict(X1)\n",
        "pred_test = lr.predict(X2)\n",
        "\n",
        "rmse_train = np.sqrt(mean_squared_error(y1,pred_train))\n",
        "rmse_test = np.sqrt(mean_squared_error(y2, pred_test))\n",
        "\n",
        "train = r2_score(y1, pred_train)\n",
        "test = r2_score(y2, pred_test)\n",
        "\n",
        "print(\"Linear Regressor: The RMSE of the training set is:\", rmse_train)\n",
        "print(\"Linear Regressor: The RMSE of the testing set is:\", rmse_test)\n",
        "print(\"Linear Regressor: R^2 for training Data is:\", train)\n",
        "print(\"Linear Regressor: R^2 for testing Data is:\", test)"
      ],
      "metadata": {
        "colab": {
          "base_uri": "https://localhost:8080/"
        },
        "id": "mkX9cIPmZ7cy",
        "outputId": "e581bb54-c719-4815-9723-63641b893d4a"
      },
      "execution_count": 91,
      "outputs": [
        {
          "output_type": "stream",
          "name": "stdout",
          "text": [
            "Linear Regressor: The RMSE of the training set is: 2.605205228064051e-15\n",
            "Linear Regressor: The RMSE of the testing set is: 2.5990068547311603e-15\n",
            "Linear Regressor: R^2 for training Data is: 1.0\n",
            "Linear Regressor: R^2 for testing Data is: 1.0\n"
          ]
        }
      ]
    },
    {
      "cell_type": "markdown",
      "source": [
        "From the results shown above, the linear regressor gives us the R^2 for testing data is 1 and the RMSE of the testing set is so small. Both of the two values tell us this could be a better model than random forest regressor."
      ],
      "metadata": {
        "id": "A9KGHbDQOv1X"
      }
    },
    {
      "cell_type": "markdown",
      "source": [
        "##### 7. Conclusion"
      ],
      "metadata": {
        "id": "aLquuq_sPL2D"
      }
    },
    {
      "cell_type": "markdown",
      "source": [
        "During the analysis, I have done the entire data science pipeline which includes data curation, parsing, and management; exploratory data analysis; hypothesis testing and machine learning analysis. The entire analysis contains well explained prose and well documented code in order to provide readers a better understandable and digestable content.\n",
        "\n",
        "I have walked though the analysis on exploring the relationship between suicide rate with gender, age, generation. I used bar graph to show the distribution of number of suicide within different group. And used line plot to compare the suicide rate changes within different group over the years. From all the analysis above, we can see that suicide rate is higher in male group; its also higher in elder according to the suicide rate of different age group over the years; moreover, people lived in G.I Generation is more prone to commit suicide. Lastly, I looked into the factors that affect suicide population and find a model that makes a reasonable prediction.\n",
        "\n",
        "Finally I want to say, people will think of suicide for different reasons. Some of them may act differently than usual when they get suicidal thoughts, but some may don't. If you ever had such this thoughts, please go ask for help immediately. Or if somebody around you ever talked about this, please be patient and communiate with them and help them getting through this."
      ],
      "metadata": {
        "id": "XPsp23-bPM-A"
      }
    },
    {
      "cell_type": "markdown",
      "source": [
        "##### 8. Work Citations"
      ],
      "metadata": {
        "id": "1tvczCMiPN6i"
      }
    },
    {
      "cell_type": "markdown",
      "source": [
        "\n",
        "https://medium.com/swlh/effect-of-generation-on-suicide-253571b81778\n",
        "\n",
        "https://machinelearningmastery.com/robust-scaler-transforms-for-machine-learning/"
      ],
      "metadata": {
        "id": "haHkHToePPwj"
      }
    }
  ]
}